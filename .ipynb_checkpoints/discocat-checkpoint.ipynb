{
 "cells": [
  {
   "cell_type": "code",
   "execution_count": 24,
   "metadata": {},
   "outputs": [],
   "source": [
    "from sympy import *\n",
    "init_printing(use_unicode=True)\n",
    "\n",
    "heuristics = Matrix([[.6,.2,.005],[0.9,0.25,.005],[0.1,.8,.5]])\n",
    "left = Matrix([[1,0,0],[0,1,0],[0,0,1],[0,0,0],[0,0,0],[0,0,0]])\n",
    "right = Matrix([[0,0,0,1,0,0],[0,0,0,0,1,0],[0,0,0,0,0,1]])\n",
    "\n",
    "chases = left*heuristics*right\n",
    "\n",
    "def animal (a, b, c): \n",
    "    return Matrix([a,b,c])\n",
    "\n",
    "def diagonal (v): \n",
    "    return Matrix(matrix2numpy(v.T).tolist()[0]+matrix2numpy(v.T).tolist()[0])\n",
    "\n",
    "fish  = diagonal(animal(0,0,1))\n",
    "cat = diagonal(animal(0,1,0))\n",
    "dog = diagonal(animal(1,0,0))\n",
    "\n",
    "\n",
    "\n",
    "\n",
    "\n",
    "big = Matrix([[100,0,0,0,0,0],[0,100,0,0,0,0],[0,0,100,0,0,0],\n",
    "              [0,0,0,1/100,0,0], [0,0,0,0,1/100,0], [0,0,0,0,0,1/100]])\n",
    "\n",
    "small = Matrix([[1/100,0,0,0,0,0],[0,1/100,0,0,0,0],[0,0,1/100,0,0,0],\n",
    "              [0,0,0,100,0,0], [0,0,0,0,100,0], [0,0,0,0,0,100]"
   ]
  },
  {
   "cell_type": "markdown",
   "metadata": {},
   "source": [
    "We disallow hybrids because a linear combination of dog and cat makes no sense. However, a linear combination of cat or dog with fish is  itself a real animal but is simply a type of fish. "
   ]
  },
  {
   "cell_type": "code",
   "execution_count": 9,
   "metadata": {},
   "outputs": [
    {
     "data": {
      "text/latex": [
       "$$\\left[\\begin{matrix}0.6 & 0.2 & 0.005\\\\0.9 & 0.25 & 0.005\\\\0.1 & 0.8 & 0.5\\end{matrix}\\right]$$"
      ],
      "text/plain": [
       "⎡0.6  0.2   0.005⎤\n",
       "⎢                ⎥\n",
       "⎢0.9  0.25  0.005⎥\n",
       "⎢                ⎥\n",
       "⎣0.1  0.8    0.5 ⎦"
      ]
     },
     "execution_count": 9,
     "metadata": {},
     "output_type": "execute_result"
    }
   ],
   "source": [
    "heuristics"
   ]
  },
  {
   "cell_type": "code",
   "execution_count": 10,
   "metadata": {},
   "outputs": [
    {
     "data": {
      "text/latex": [
       "$$\\left[\\begin{matrix}1 & 0 & 0\\\\0 & 1 & 0\\\\0 & 0 & 1\\\\0 & 0 & 0\\\\0 & 0 & 0\\\\0 & 0 & 0\\end{matrix}\\right]$$"
      ],
      "text/plain": [
       "⎡1  0  0⎤\n",
       "⎢       ⎥\n",
       "⎢0  1  0⎥\n",
       "⎢       ⎥\n",
       "⎢0  0  1⎥\n",
       "⎢       ⎥\n",
       "⎢0  0  0⎥\n",
       "⎢       ⎥\n",
       "⎢0  0  0⎥\n",
       "⎢       ⎥\n",
       "⎣0  0  0⎦"
      ]
     },
     "execution_count": 10,
     "metadata": {},
     "output_type": "execute_result"
    }
   ],
   "source": [
    "left"
   ]
  },
  {
   "cell_type": "code",
   "execution_count": 11,
   "metadata": {},
   "outputs": [
    {
     "data": {
      "text/latex": [
       "$$\\left[\\begin{matrix}0 & 0 & 0 & 1 & 0 & 0\\\\0 & 0 & 0 & 0 & 1 & 0\\\\0 & 0 & 0 & 0 & 0 & 1\\end{matrix}\\right]$$"
      ],
      "text/plain": [
       "⎡0  0  0  1  0  0⎤\n",
       "⎢                ⎥\n",
       "⎢0  0  0  0  1  0⎥\n",
       "⎢                ⎥\n",
       "⎣0  0  0  0  0  1⎦"
      ]
     },
     "execution_count": 11,
     "metadata": {},
     "output_type": "execute_result"
    }
   ],
   "source": [
    "right"
   ]
  },
  {
   "cell_type": "code",
   "execution_count": 12,
   "metadata": {},
   "outputs": [
    {
     "data": {
      "text/latex": [
       "$$\\left[\\begin{matrix}0 & 0 & 0 & 0.6 & 0.2 & 0.005\\\\0 & 0 & 0 & 0.9 & 0.25 & 0.005\\\\0 & 0 & 0 & 0.1 & 0.8 & 0.5\\\\0 & 0 & 0 & 0 & 0 & 0\\\\0 & 0 & 0 & 0 & 0 & 0\\\\0 & 0 & 0 & 0 & 0 & 0\\end{matrix}\\right]$$"
      ],
      "text/plain": [
       "⎡0  0  0  0.6  0.2   0.005⎤\n",
       "⎢                         ⎥\n",
       "⎢0  0  0  0.9  0.25  0.005⎥\n",
       "⎢                         ⎥\n",
       "⎢0  0  0  0.1  0.8    0.5 ⎥\n",
       "⎢                         ⎥\n",
       "⎢0  0  0   0    0      0  ⎥\n",
       "⎢                         ⎥\n",
       "⎢0  0  0   0    0      0  ⎥\n",
       "⎢                         ⎥\n",
       "⎣0  0  0   0    0      0  ⎦"
      ]
     },
     "execution_count": 12,
     "metadata": {},
     "output_type": "execute_result"
    }
   ],
   "source": [
    "chases"
   ]
  },
  {
   "cell_type": "code",
   "execution_count": 13,
   "metadata": {},
   "outputs": [
    {
     "data": {
      "text/latex": [
       "$$\\left[\\begin{matrix}0\\\\1\\\\1\\end{matrix}\\right]$$"
      ],
      "text/plain": [
       "⎡0⎤\n",
       "⎢ ⎥\n",
       "⎢1⎥\n",
       "⎢ ⎥\n",
       "⎣1⎦"
      ]
     },
     "execution_count": 13,
     "metadata": {},
     "output_type": "execute_result"
    }
   ],
   "source": [
    "animal(0,0,1)"
   ]
  },
  {
   "cell_type": "code",
   "execution_count": 26,
   "metadata": {},
   "outputs": [
    {
     "data": {
      "text/latex": [
       "$$\\left[\\begin{matrix}0\\\\0\\\\1\\\\0\\\\0\\\\1\\end{matrix}\\right]$$"
      ],
      "text/plain": [
       "⎡0⎤\n",
       "⎢ ⎥\n",
       "⎢0⎥\n",
       "⎢ ⎥\n",
       "⎢1⎥\n",
       "⎢ ⎥\n",
       "⎢0⎥\n",
       "⎢ ⎥\n",
       "⎢0⎥\n",
       "⎢ ⎥\n",
       "⎣1⎦"
      ]
     },
     "execution_count": 26,
     "metadata": {},
     "output_type": "execute_result"
    }
   ],
   "source": [
    "fish = diagonal(animal(0,0,1))\n",
    "fish"
   ]
  },
  {
   "cell_type": "code",
   "execution_count": 15,
   "metadata": {},
   "outputs": [
    {
     "data": {
      "text/latex": [
       "$$\\left[\\begin{matrix}0\\\\1\\\\0\\\\0\\\\1\\\\0\\end{matrix}\\right]$$"
      ],
      "text/plain": [
       "⎡0⎤\n",
       "⎢ ⎥\n",
       "⎢1⎥\n",
       "⎢ ⎥\n",
       "⎢0⎥\n",
       "⎢ ⎥\n",
       "⎢0⎥\n",
       "⎢ ⎥\n",
       "⎢1⎥\n",
       "⎢ ⎥\n",
       "⎣0⎦"
      ]
     },
     "execution_count": 15,
     "metadata": {},
     "output_type": "execute_result"
    }
   ],
   "source": [
    "cat = diagonal(animal(0,1,0))\n",
    "cat"
   ]
  },
  {
   "cell_type": "code",
   "execution_count": 17,
   "metadata": {},
   "outputs": [
    {
     "data": {
      "text/latex": [
       "$$\\left[\\begin{matrix}100 & 0 & 0 & 0 & 0 & 0\\\\0 & 100 & 0 & 0 & 0 & 0\\\\0 & 0 & 100 & 0 & 0 & 0\\\\0 & 0 & 0 & 0.01 & 0 & 0\\\\0 & 0 & 0 & 0 & 0.01 & 0\\\\0 & 0 & 0 & 0 & 0 & 0.01\\end{matrix}\\right]$$"
      ],
      "text/plain": [
       "⎡100   0    0    0     0     0  ⎤\n",
       "⎢                               ⎥\n",
       "⎢ 0   100   0    0     0     0  ⎥\n",
       "⎢                               ⎥\n",
       "⎢ 0    0   100   0     0     0  ⎥\n",
       "⎢                               ⎥\n",
       "⎢ 0    0    0   0.01   0     0  ⎥\n",
       "⎢                               ⎥\n",
       "⎢ 0    0    0    0    0.01   0  ⎥\n",
       "⎢                               ⎥\n",
       "⎣ 0    0    0    0     0    0.01⎦"
      ]
     },
     "execution_count": 17,
     "metadata": {},
     "output_type": "execute_result"
    }
   ],
   "source": [
    "big = Matrix([[100,0,0,0,0,0],[0,100,0,0,0,0],[0,0,100,0,0,0],\n",
    "              [0,0,0,1/100,0,0], [0,0,0,0,1/100,0], [0,0,0,0,0,1/100]])\n",
    "big"
   ]
  },
  {
   "cell_type": "code",
   "execution_count": 19,
   "metadata": {},
   "outputs": [
    {
     "data": {
      "text/latex": [
       "$$\\left[\\begin{matrix}0\\\\100\\\\100\\\\0\\\\0.01\\\\0.01\\end{matrix}\\right]$$"
      ],
      "text/plain": [
       "⎡ 0  ⎤\n",
       "⎢    ⎥\n",
       "⎢100 ⎥\n",
       "⎢    ⎥\n",
       "⎢100 ⎥\n",
       "⎢    ⎥\n",
       "⎢ 0  ⎥\n",
       "⎢    ⎥\n",
       "⎢0.01⎥\n",
       "⎢    ⎥\n",
       "⎣0.01⎦"
      ]
     },
     "execution_count": 19,
     "metadata": {},
     "output_type": "execute_result"
    }
   ],
   "source": [
    "big*catfish"
   ]
  },
  {
   "cell_type": "code",
   "execution_count": 36,
   "metadata": {},
   "outputs": [
    {
     "data": {
      "image/png": "[encoded data removed]",
      "text/latex": [
       "$$\\left[\\begin{matrix}0.01 & 0 & 0 & 0 & 0 & 0\\\\0 & 0.01 & 0 & 0 & 0 & 0\\\\0 & 0 & 0.01 & 0 & 0 & 0\\\\0 & 0 & 0 & 100 & 0 & 0\\\\0 & 0 & 0 & 0 & 100 & 0\\\\0 & 0 & 0 & 0 & 0 & 100\\end{matrix}\\right]$$"
      ],
      "text/plain": [
       "⎡0.01   0     0     0    0    0 ⎤\n",
       "⎢                               ⎥\n",
       "⎢ 0    0.01   0     0    0    0 ⎥\n",
       "⎢                               ⎥\n",
       "⎢ 0     0    0.01   0    0    0 ⎥\n",
       "⎢                               ⎥\n",
       "⎢ 0     0     0    100   0    0 ⎥\n",
       "⎢                               ⎥\n",
       "⎢ 0     0     0     0   100   0 ⎥\n",
       "⎢                               ⎥\n",
       "⎣ 0     0     0     0    0   100⎦"
      ]
     },
     "execution_count": 36,
     "metadata": {},
     "output_type": "execute_result"
    }
   ],
   "source": [
    "small = Matrix([[1/100,0,0,0,0,0],[0,1/100,0,0,0,0],[0,0,1/100,0,0,0],\n",
    "              [0,0,0,100,0,0], [0,0,0,0,100,0], [0,0,0,0,0,100]])\n",
    "small"
   ]
  },
  {
   "cell_type": "code",
   "execution_count": 27,
   "metadata": {},
   "outputs": [
    {
     "data": {
      "text/latex": [
       "$$\\left[\\begin{matrix}0.01\\\\0\\\\0\\\\100\\\\0\\\\0\\end{matrix}\\right]$$"
      ],
      "text/plain": [
       "⎡0.01⎤\n",
       "⎢    ⎥\n",
       "⎢ 0  ⎥\n",
       "⎢    ⎥\n",
       "⎢ 0  ⎥\n",
       "⎢    ⎥\n",
       "⎢100 ⎥\n",
       "⎢    ⎥\n",
       "⎢ 0  ⎥\n",
       "⎢    ⎥\n",
       "⎣ 0  ⎦"
      ]
     },
     "execution_count": 27,
     "metadata": {},
     "output_type": "execute_result"
    }
   ],
   "source": [
    "small*dog"
   ]
  },
  {
   "cell_type": "code",
   "execution_count": 28,
   "metadata": {},
   "outputs": [
    {
     "data": {
      "text/latex": [
       "$$\\left[\\begin{matrix}2000.0\\end{matrix}\\right]$$"
      ],
      "text/plain": [
       "[2000.0]"
      ]
     },
     "execution_count": 28,
     "metadata": {},
     "output_type": "execute_result"
    }
   ],
   "source": [
    "(big*dog).T*chases*small*cat"
   ]
  },
  {
   "cell_type": "code",
   "execution_count": 31,
   "metadata": {},
   "outputs": [
    {
     "data": {
      "text/latex": [
       "$$\\left[\\begin{matrix}8.0 \\cdot 10^{-5}\\end{matrix}\\right]$$"
      ],
      "text/plain": [
       "[8.0e-5]"
      ]
     },
     "execution_count": 31,
     "metadata": {},
     "output_type": "execute_result"
    }
   ],
   "source": [
    "(small*fish).T*chases*big*cat"
   ]
  }
 ],
 "metadata": {
  "kernelspec": {
   "display_name": "Python 3",
   "language": "python",
   "name": "python3"
  },
  "language_info": {
   "codemirror_mode": {
    "name": "ipython",
    "version": 3
   },
   "file_extension": ".py",
   "mimetype": "text/x-python",
   "name": "python",
   "nbconvert_exporter": "python",
   "pygments_lexer": "ipython3",
   "version": "3.7.3"
  }
 },
 "nbformat": 4,
 "nbformat_minor": 2
}
